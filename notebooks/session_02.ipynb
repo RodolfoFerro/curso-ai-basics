{
  "nbformat": 4,
  "nbformat_minor": 0,
  "metadata": {
    "colab": {
      "provenance": [],
      "collapsed_sections": [
        "aYSKRMac7UVU"
      ],
      "include_colab_link": true
    },
    "kernelspec": {
      "name": "python3",
      "display_name": "Python 3"
    },
    "language_info": {
      "name": "python"
    }
  },
  "cells": [
    {
      "cell_type": "markdown",
      "metadata": {
        "id": "view-in-github",
        "colab_type": "text"
      },
      "source": [
        "<a href=\"https://colab.research.google.com/github/RodolfoFerro/curso-ai-basics/blob/main/notebooks/session_02.ipynb\" target=\"_parent\"><img src=\"https://colab.research.google.com/assets/colab-badge.svg\" alt=\"Open In Colab\"/></a>"
      ]
    },
    {
      "cell_type": "markdown",
      "source": [
        "# Introducción a Pandas\n",
        "\n",
        "A lo largo de este cuaderno explicaremos algunos elemntos básicos y herramientas con las que cuenta la librería de Python llamada Pandas. Los temas que se cubrirán serán:\n",
        "1. Intro a Pandas\n",
        "2. Objetos Base de Pandas\n",
        "3. Series\n",
        "4. DataFrames\n",
        "5. Index\n",
        "6. Indexing y selecciones para DataFrames\n",
        "7. Asignación y creación de nuevas columnas en DataFrames"
      ],
      "metadata": {
        "id": "1KuYPnjr0GWz"
      }
    },
    {
      "cell_type": "markdown",
      "source": [
        "## Introducción a Pandas\n",
        "Pandas es la librería de Python más famosa para trabajar en análisis de datos, utiliza NumPy de base, (todos los objetos de Pandas están basados en NumPy arrays), y se ha construido un enorme y bastante completo paradigma para trabajar con esta librería.\n",
        "\n",
        "Para importar Pandas lo hacemos igual que con numpy, pero con un alias diferente, en este caso:\n"
      ],
      "metadata": {
        "id": "RAaf1uL900Z4"
      }
    },
    {
      "cell_type": "code",
      "execution_count": null,
      "metadata": {
        "id": "DkDzNPLwwqp7"
      },
      "outputs": [],
      "source": [
        "import  pandas as pd # El alias de Pandas es pd\n",
        "import numpy as np"
      ]
    },
    {
      "cell_type": "markdown",
      "source": [
        "## Objetos base de Pandas\n",
        "\n",
        "Tenemos 3 objetos principales dentro de la librería Pandas\n",
        "\n",
        "1. Series\n",
        "2. DataFrames\n",
        "3. Index\n",
        "\n",
        "Aquí abajo hay un ejemplo del cómo se inicializa cada uno."
      ],
      "metadata": {
        "id": "MapkFHqu1Y76"
      }
    },
    {
      "cell_type": "code",
      "source": [
        "# SERIE\n",
        "my_serie = pd.Series([0.25, 0.5, 0.75, 1.], dtype='float64')\n",
        "\n",
        "# DATAFRAME\n",
        "data = {\n",
        "    \"name\": [\"Rodo\", \"David\", \"Peter\", \"Miles\"],\n",
        "    \"last_name\": [\"Ferro\", \"Pedroza\", \"Parker\", \"Morales\"],\n",
        "    \"age\": [31, 24, 16, 14]\n",
        "}\n",
        "my_df = pd.DataFrame(data)\n",
        "\n",
        "# INDEX\n",
        "my_index = pd.Index([2, 3, 5, 7, 11])"
      ],
      "metadata": {
        "id": "WabmKYuV1WR_"
      },
      "execution_count": null,
      "outputs": []
    },
    {
      "cell_type": "markdown",
      "source": [
        "## Series\n",
        "Un Pandas Series es un arreglo 1-dimensional de datos indexados. Se pueden crear a partir de listas u otros objetos iterables como tuplas y arreglos. Es el objeto más basico en la librería y es casi idéntico a un NumPy Array, excepto que este es más flexible porque tiene un índice bastente flexible."
      ],
      "metadata": {
        "id": "xHF2dKW82gPg"
      }
    },
    {
      "cell_type": "code",
      "source": [
        "data = pd.Series([0.25, 0.5, 0.75, 1.])\n",
        "data"
      ],
      "metadata": {
        "id": "3qiJd2kE2OaD"
      },
      "execution_count": null,
      "outputs": []
    },
    {
      "cell_type": "markdown",
      "source": [
        "Son una estructura de dato que envuelve una secuencia de valores y una secuencia de índices. Podemos acceder a estos con los atributos de values e index. ESTOS INDEX PUEDEN SER VALORES DE CUALQUIER TIPO. Por esto, son generalización de los diccionarios en Python."
      ],
      "metadata": {
        "id": "JWhZeQv521Bw"
      }
    },
    {
      "cell_type": "code",
      "source": [
        "# Definamos una nueva Series\n",
        "data = pd.Series([0.25, 0.5, 0.75, 1.],\n",
        "                 index=['a', 'b', 'c', 'd'])"
      ],
      "metadata": {
        "id": "gOII5POP26iy"
      },
      "execution_count": null,
      "outputs": []
    },
    {
      "cell_type": "code",
      "source": [
        "data.values"
      ],
      "metadata": {
        "id": "5-2vpdzW2wwY"
      },
      "execution_count": null,
      "outputs": []
    },
    {
      "cell_type": "code",
      "source": [
        "data.index"
      ],
      "metadata": {
        "id": "hI5sm0yO23YC"
      },
      "execution_count": null,
      "outputs": []
    },
    {
      "cell_type": "code",
      "source": [
        "data['c']"
      ],
      "metadata": {
        "id": "ptbwGbcp24Ah"
      },
      "execution_count": null,
      "outputs": []
    },
    {
      "cell_type": "markdown",
      "source": [
        "Tienen muchas propiedades interesantes, pero es de mayor interés entenderlas dentor del contexto del Pandas DataFrame. Mientras tanto, qué te parece si resuelves el siguiente ejercicio:\n",
        "\n",
        "### Ejercicio:\n",
        "- Parte 1: Crea una Series cuyo contenido sean los primeros 5 números primos y cuyo índice diga \"prime_number#1\", \"prime_number#2\", \"prime_number#3\"... y así hasta el 10.\n",
        "- Parte 2: Crea una Series cuyo contenido sean los primeros 100 números naturales y cuyo índice diga \"nature_number#1\", \"nature_number#2\",... \"nature_number#100\"."
      ],
      "metadata": {
        "id": "KU-q4Vrr3GqB"
      }
    },
    {
      "cell_type": "code",
      "source": [
        "# TODO..."
      ],
      "metadata": {
        "id": "pDcT9dxz4D_-"
      },
      "execution_count": null,
      "outputs": []
    },
    {
      "cell_type": "markdown",
      "source": [
        "## Pandas DataFrame\n",
        "Esta es la estructura principal de Pandas, es una generalización de un NumPy Array en 2-D, sin embargo, sirve más pensarlo como una generalización de un diccionario de Python, así mismo, es una colección en secuencia de **Pandas Series**, y hay muchas maneras de crear uno:"
      ],
      "metadata": {
        "id": "92I6Nk6Z4N0g"
      }
    },
    {
      "cell_type": "code",
      "source": [
        "# Por medio de un diccionario con datos\n",
        "data = {\n",
        "    \"name\": [\"Rodo\", \"David\", \"Peter\", \"Miles\"],\n",
        "    \"last_name\": [\"Ferro\", \"Pedroza\", \"Parker\", \"Morales\"],\n",
        "    \"age\": [31, 24, 16, 14]\n",
        "}\n",
        "df = pd.DataFrame(data)\n",
        "df"
      ],
      "metadata": {
        "id": "Pvv0vv6o4FT4"
      },
      "execution_count": null,
      "outputs": []
    },
    {
      "cell_type": "code",
      "source": [
        "# Por medio de una matriz y un arreglo de columnas\n",
        "data = [\n",
        "    [\"Rodo\", \"Ferro\", 31],\n",
        "    [\"Buberto\", \"Bunzalez\", 24],\n",
        "    [\"Peter\", \"Parker\", 16],\n",
        "    [\"Miles\", \"Morales\", 14],\n",
        "]\n",
        "\n",
        "columns = [\"name\", \"last_name\", \"age\"]\n",
        "\n",
        "df = pd.DataFrame(data, columns=columns)\n",
        "df"
      ],
      "metadata": {
        "id": "bN7BNmZl4mZ-"
      },
      "execution_count": null,
      "outputs": []
    },
    {
      "cell_type": "markdown",
      "source": [
        "En lugar de crear los datos podríamos importarlos de algún archivo que tengamos, .csv, .excel, .parquet, .pkl, .pickle.\n",
        "Además cada método tiene sus propias configuraciones.\n",
        "\n",
        "La data que usamos se encuentra disponible [aquí](https://www.kaggle.com/datasets/sujaykapadnis/programming-languages/download?datasetVersionNumber=1)."
      ],
      "metadata": {
        "id": "FUzasHmK8CmQ"
      }
    },
    {
      "cell_type": "code",
      "source": [
        "df = pd.read_csv(\"languages.csv\")\n",
        "df"
      ],
      "metadata": {
        "id": "i_EUva_r5Nkl"
      },
      "execution_count": null,
      "outputs": []
    },
    {
      "cell_type": "markdown",
      "source": [
        "## Index\n",
        "Tanto el objeto Series como el objeto DataFrame tienen este objeto 'Series', incrustado en si. Funciona como un NumPy Array pero es inmutable para prevenir errores. Son multi-conjuntos ordenados."
      ],
      "metadata": {
        "id": "tflCJ09489yr"
      }
    },
    {
      "cell_type": "code",
      "source": [
        "ind = pd.Index([[2, 3, 5, 7, 11]])\n",
        "ind"
      ],
      "metadata": {
        "id": "8W65aQmQ889Q"
      },
      "execution_count": null,
      "outputs": []
    },
    {
      "cell_type": "code",
      "source": [
        "ind[1] = 1"
      ],
      "metadata": {
        "id": "7K-yF6ua9UBt"
      },
      "execution_count": null,
      "outputs": []
    },
    {
      "cell_type": "markdown",
      "source": [
        "## Indexing y Selecciones en DataFrames\n",
        "Hay varias maneras de acceder a los datos dentro de un DataFrame, estas son las principales y probablemente las que más van a utilizar:\n",
        "\n",
        "### df.head(n): Regresa los primeros ‘n’ registros."
      ],
      "metadata": {
        "id": "VJbJ_sxf9YPY"
      }
    },
    {
      "cell_type": "code",
      "source": [
        "df.head() # Default: n = 5"
      ],
      "metadata": {
        "id": "0XFgCgyo9isG"
      },
      "execution_count": null,
      "outputs": []
    },
    {
      "cell_type": "markdown",
      "source": [
        "### df.tail(n): Regresa los últimos ‘n’ registros."
      ],
      "metadata": {
        "id": "-kcAqx6690ox"
      }
    },
    {
      "cell_type": "code",
      "source": [
        "df.tail() # Default n = 5"
      ],
      "metadata": {
        "id": "DMW8tl6j9oLw"
      },
      "execution_count": null,
      "outputs": []
    },
    {
      "cell_type": "markdown",
      "source": [
        "### df.columns: Regresa un array con las columnas."
      ],
      "metadata": {
        "id": "0rdNd3Cl-6wZ"
      }
    },
    {
      "cell_type": "code",
      "source": [
        "df.columns"
      ],
      "metadata": {
        "id": "FJXnZY8_-7W3"
      },
      "execution_count": null,
      "outputs": []
    },
    {
      "cell_type": "markdown",
      "source": [
        "### df[column]: Regresa los valores en esa columna (los muestra en forma de Serie)."
      ],
      "metadata": {
        "id": "5BzbeeCe9yoJ"
      }
    },
    {
      "cell_type": "code",
      "source": [
        "df[\"title\"]"
      ],
      "metadata": {
        "id": "XOWVWkMg9tbx"
      },
      "execution_count": null,
      "outputs": []
    },
    {
      "cell_type": "code",
      "source": [
        "# Nota, las Series y los DataFrames tienen casi los mismos atributos y métodos básicos de selección de datos, por tanto podemos hacer:\n",
        "df[\"title\"].head()"
      ],
      "metadata": {
        "id": "7dYh4aUy-GwW"
      },
      "execution_count": null,
      "outputs": []
    },
    {
      "cell_type": "markdown",
      "source": [
        "### df[[columns]]: Regresa un sub-dataframe con solo esas columnas y en el orden especificado.\n"
      ],
      "metadata": {
        "id": "FIX7tZat-Qtu"
      }
    },
    {
      "cell_type": "code",
      "source": [
        "columns_showed = [\"title\", \"appeared\", \"number_of_users\"]\n",
        "df[columns_showed]"
      ],
      "metadata": {
        "id": "auq7f_7t-S9w"
      },
      "execution_count": null,
      "outputs": []
    },
    {
      "cell_type": "markdown",
      "source": [
        "### df.loc[index]: Regresa una Series/DataFrame con la información de esa/esas filas."
      ],
      "metadata": {
        "id": "BgG-gx0M_WWj"
      }
    },
    {
      "cell_type": "code",
      "source": [
        "df.loc[3]"
      ],
      "metadata": {
        "id": "MPFs5XgL_TuL"
      },
      "execution_count": null,
      "outputs": []
    },
    {
      "cell_type": "markdown",
      "source": [
        "### df.iloc[n_index]: Regresa una Series/DataFrame con la información de esa/esas filas (ahora el parámetro es el número del índice, no el label del índice).\n"
      ],
      "metadata": {
        "id": "0K2QoOwR_qKD"
      }
    },
    {
      "cell_type": "code",
      "source": [
        "df.iloc[3] # ?????????????????????????????????"
      ],
      "metadata": {
        "id": "sfN3S0nb_pPQ"
      },
      "execution_count": null,
      "outputs": []
    },
    {
      "cell_type": "code",
      "source": [
        "# Vamos a cambiar un poquito el DataFrame\n",
        "df.index = range(1, len(df) + 1)\n",
        "df.head(3)"
      ],
      "metadata": {
        "id": "2ldMC2eE_4G8"
      },
      "execution_count": null,
      "outputs": []
    },
    {
      "cell_type": "code",
      "source": [
        "# Ahora si el loc y iloc tienen diferencia\n",
        "df.loc[3, columns_showed]"
      ],
      "metadata": {
        "id": "kLpojDKaAHym"
      },
      "execution_count": null,
      "outputs": []
    },
    {
      "cell_type": "code",
      "source": [
        "df.iloc[3][columns_showed]"
      ],
      "metadata": {
        "id": "udYXr_BzBP5J"
      },
      "execution_count": null,
      "outputs": []
    },
    {
      "cell_type": "markdown",
      "source": [
        "### df[mask]: Regresa una series con la información del DataFrame tras pasar por la máscara."
      ],
      "metadata": {
        "id": "KBH1R1pwBdVg"
      }
    },
    {
      "cell_type": "code",
      "source": [
        "# ¿Que pasa si hacemos una operacion lógica?\n",
        "mask = df[\"appeared\"] > 2015\n",
        "mask"
      ],
      "metadata": {
        "id": "mVlBBNUdBfDE"
      },
      "execution_count": null,
      "outputs": []
    },
    {
      "cell_type": "code",
      "source": [
        "df[mask]"
      ],
      "metadata": {
        "id": "bCIadbfVBobf"
      },
      "execution_count": null,
      "outputs": []
    },
    {
      "cell_type": "markdown",
      "source": [
        "## Asignación\n",
        "Para crear una columna usamos la misma lógica que en los diccionarios, accedemos asignamos el nombre de esa columna a un valor."
      ],
      "metadata": {
        "id": "LCvifqroCd2n"
      }
    },
    {
      "cell_type": "code",
      "source": [
        "df[\"age\"] = 2024 - df[\"appeared\"]\n",
        "columns_showed_new = columns_showed + [\"age\"]\n",
        "\n",
        "df[columns_showed_new]"
      ],
      "metadata": {
        "collapsed": true,
        "id": "MXSXgGSsCXsn"
      },
      "execution_count": null,
      "outputs": []
    },
    {
      "cell_type": "markdown",
      "source": [
        "## Alineación de índices"
      ],
      "metadata": {
        "id": "V9sWWSaswvRR"
      }
    },
    {
      "cell_type": "code",
      "source": [
        "a = pd.Series([2, 4, 6], index=[0, 1, 2])\n",
        "b = pd.Series([1, 3, 5], index=[1, 2, 3])\n",
        "a + b"
      ],
      "metadata": {
        "id": "jqom8PNDwupJ"
      },
      "execution_count": null,
      "outputs": []
    },
    {
      "cell_type": "markdown",
      "source": [
        "# Fill Values con operaciones"
      ],
      "metadata": {
        "id": "p0J8xXgHyPrC"
      }
    },
    {
      "cell_type": "code",
      "source": [
        "a.add(b, fill_value=0)"
      ],
      "metadata": {
        "id": "Sgh0XUXVxQP0"
      },
      "execution_count": null,
      "outputs": []
    },
    {
      "cell_type": "markdown",
      "source": [
        "## UFuncs entre Series y DataFrames\n",
        "Funciona exactamente igual que NumPy."
      ],
      "metadata": {
        "id": "DdyQEK0TLF27"
      }
    },
    {
      "cell_type": "code",
      "source": [
        "rng = np.random.RandomState(73) # Asignando un estado aleatorio para que a pesar de ser números aleatorios, siempre sean los mismos por cada run\n",
        "a = rng.randint(10, size = (3, 4))\n",
        "a"
      ],
      "metadata": {
        "id": "AMRN5cDyLFW3"
      },
      "execution_count": null,
      "outputs": []
    },
    {
      "cell_type": "code",
      "source": [
        "# Numpy:\n",
        "a - a[0]"
      ],
      "metadata": {
        "id": "j_Yjk8gmLecw"
      },
      "execution_count": null,
      "outputs": []
    },
    {
      "cell_type": "code",
      "source": [
        "# Pandas\n",
        "df = pd.DataFrame(a, columns=list('QRST'))\n",
        "df - df.iloc[0]"
      ],
      "metadata": {
        "id": "YByYC59ZL4TP"
      },
      "execution_count": null,
      "outputs": []
    },
    {
      "cell_type": "markdown",
      "source": [
        "# Cambio de axis"
      ],
      "metadata": {
        "id": "_-kdshXhMJD4"
      }
    },
    {
      "cell_type": "code",
      "source": [
        "df - df['R'] # ??????????????????"
      ],
      "metadata": {
        "id": "NNjWzqawL-Kn"
      },
      "execution_count": null,
      "outputs": []
    },
    {
      "cell_type": "code",
      "source": [
        "df.subtract(df['R'], axis = 0)"
      ],
      "metadata": {
        "id": "7BBTOKHlMP3v"
      },
      "execution_count": null,
      "outputs": []
    },
    {
      "cell_type": "markdown",
      "source": [
        "# ¿Qué hacer cuando hay missing data? (Datos faltantes)\n",
        "La diferencia entre los datos que usan en los tutoriales y para aprender y los datos en la mundo real, es que en el mundo real rara vez los datos están limpios y homogéneos. En particular, muchos datasets muy interesantes van a tener algún porcentaje de los datos como faltantes. Y esto de \"Datos faltantes\" puede significar varias cosas, no solo que olvidaron llenar un campo.\n",
        "\n",
        "## Trade-Offs in Missing Data Conventions (Compromisos en las Convenciones de Datos Faltantes)\n",
        "Existen diversos métodos desarrollados para señalar la presencia de datos faltantes en una tabla o DataFrame. Estos métodos generalmente se basan en dos estrategias: usar una máscara que indica globalmente los valores faltantes, o elegir un valor centinela que señale una entrada ausente.\n",
        "\n",
        "En el enfoque de máscara, esta puede ser un arreglo booleano completamente separado, o puede involucrar la asignación de un bit en la representación de los datos para indicar localmente el estado nulo de un valor.\n",
        "\n",
        "En el enfoque del valor centinela, este podría ser una convención específica del dato, como indicar un valor entero faltante con -9999 o algún patrón de bits poco común, o podría ser una convención más global, como indicar un valor flotante faltante con NaN (Not a Number), un valor especial que forma parte de la especificación de punto flotante IEEE.\n",
        "\n",
        "Ninguno de estos enfoques está libre de compromisos: el uso de un arreglo de máscara separado requiere la asignación de un arreglo booleano adicional, lo que añade sobrecarga tanto en almacenamiento como en cálculo. Un valor centinela reduce el rango de valores válidos que pueden representarse y puede requerir lógica extra (a menudo no optimizada) en la aritmética de CPU y GPU. Valores especiales comunes como NaN no están disponibles para todos los tipos de datos.\n",
        "\n",
        "Como en la mayoría de los casos donde no existe una elección óptima universal, diferentes lenguajes y sistemas utilizan distintas convenciones. Por ejemplo, el lenguaje R usa patrones de bits reservados dentro de cada tipo de dato como valores centinela para indicar datos faltantes, mientras que el sistema SciDB utiliza un byte extra adjunto a cada celda que indica un estado NA.\n",
        "\n",
        "## Datos faltantes en Pandas\n",
        "La forma en que Pandas maneja los valores faltantes está limitada por su dependencia del paquete NumPy, el cual no tiene un concepto integrado de valores NA para tipos de datos que no son de punto flotante.\n",
        "\n",
        "Pandas podría haber seguido el ejemplo de R en especificar patrones de bits para cada tipo de dato individual para indicar la nulidad, pero este enfoque resulta bastante engorroso. Mientras que R contiene cuatro tipos de datos básicos, NumPy soporta muchos más: por ejemplo, mientras R tiene un solo tipo de entero, NumPy soporta catorce tipos básicos de enteros si se toman en cuenta las precisiones disponibles, la signatura y la orientación de la codificación. Reservar un patrón de bits específico en todos los tipos disponibles de NumPy conduciría a una cantidad excesiva de sobrecarga en la especialización de diversas operaciones para varios tipos, probablemente requiriendo incluso una nueva versión del paquete NumPy. Además, para los tipos de datos más pequeños (como los enteros de 8 bits), sacrificar un bit para usarlo como máscara reduciría significativamente el rango de valores que puede representar.\n",
        "\n",
        "NumPy sí tiene soporte para arreglos enmascarados, es decir, arreglos que tienen un arreglo de máscara booleano separado adjunto para marcar los datos como \"buenos\" o \"malos\". Pandas podría haber derivado de esto, pero la sobrecarga tanto en almacenamiento, cálculo como en mantenimiento de código hace que sea una opción poco atractiva.\n",
        "\n",
        "Con estas limitaciones en mente, Pandas optó por usar valores centinela para los datos faltantes, y eligió utilizar dos valores nulos ya existentes en Python: el valor especial de punto flotante NaN y el objeto None de Python. Esta elección tiene algunos efectos secundarios, como veremos, pero en la práctica resulta ser un buen compromiso en la mayoría de los casos de interés.\n",
        "\n",
        "## Datos numéricos faltantes (NaN) En NumPy\n",
        "Es un valor de punto flotante reconocido por todos los sistemas que usan el estándar IEEE floating-point representation:"
      ],
      "metadata": {
        "id": "VQ78A9B2dtiT"
      }
    },
    {
      "cell_type": "code",
      "source": [
        "vals = np.array([1, np.nan, 3, 4])\n",
        "vals.dtype"
      ],
      "metadata": {
        "id": "lncz2dD5MSRY"
      },
      "execution_count": null,
      "outputs": []
    },
    {
      "cell_type": "code",
      "source": [
        "# Noten que pasa con las ufuncs aplicadas a un np.nan\n",
        "print(1 + np.nan)\n",
        "print(0 * np.nan)"
      ],
      "metadata": {
        "id": "qRfzaUlugtd2"
      },
      "execution_count": null,
      "outputs": []
    },
    {
      "cell_type": "code",
      "source": [
        "# PERO\n",
        "vals.sum(), vals.max(), vals.min()"
      ],
      "metadata": {
        "id": "KdtwyBzIg41Q"
      },
      "execution_count": null,
      "outputs": []
    },
    {
      "cell_type": "code",
      "source": [
        "# Arreglar ese PERO\n",
        "np.nansum(vals), np.nanmin(vals), np.nanmax(vals)"
      ],
      "metadata": {
        "id": "lvOSx3jwg-OZ"
      },
      "execution_count": null,
      "outputs": []
    },
    {
      "cell_type": "markdown",
      "source": [
        "## NaN y None en Pandas\n",
        "En Pandas, tanto NaN como None, pueden ser exactamente lo mismo."
      ],
      "metadata": {
        "id": "AVO9JUBjhJZD"
      }
    },
    {
      "cell_type": "code",
      "source": [
        "pd.Series([1, np.nan, 2, None])"
      ],
      "metadata": {
        "id": "hhIXoEv4hCpp"
      },
      "execution_count": null,
      "outputs": []
    },
    {
      "cell_type": "markdown",
      "source": [
        "Para tipos de dato que no contienen valores de centinela se castea al valor centinela np.nan o None dependiendo si es numérico o no."
      ],
      "metadata": {
        "id": "f_VC6JakiWm2"
      }
    },
    {
      "cell_type": "code",
      "source": [
        "x = pd.Series(range(2), dtype=int)\n",
        "x"
      ],
      "metadata": {
        "id": "rPeGJbSSiVz2"
      },
      "execution_count": null,
      "outputs": []
    },
    {
      "cell_type": "code",
      "source": [
        "x[0] = None\n",
        "x"
      ],
      "metadata": {
        "id": "lmoYfc6bvThC"
      },
      "execution_count": null,
      "outputs": []
    },
    {
      "cell_type": "markdown",
      "source": [
        "### UPDATE! Ya existe un valor NA entero:"
      ],
      "metadata": {
        "id": "ffn44oYpvoLx"
      }
    },
    {
      "cell_type": "code",
      "source": [
        "x = pd.Series([1, 2, np.nan, None, pd.NA], dtype=\"Int64\")\n",
        "x"
      ],
      "metadata": {
        "id": "Ez2WO2TavryV"
      },
      "execution_count": null,
      "outputs": []
    },
    {
      "cell_type": "markdown",
      "source": [
        "## Operando con valores nulos\n",
        "\n",
        "Hay muchas maneras de detectar, remover o remplazar valores nulos en pandas\n",
        "\n",
        "- isnull(): Generate a boolean mask indicating missing values\n",
        "- notnull(): Opposite of isnull()\n",
        "- dropna(): Return a filtered version of the data\n",
        "- fillna(): Return a copy of the data with missing values filled or imputed\n",
        "\n",
        "### Detectar valores nulos"
      ],
      "metadata": {
        "id": "JxR2nHfCwGzP"
      }
    },
    {
      "cell_type": "code",
      "source": [
        "data = pd.Series([1, np.nan, 'hello', None])"
      ],
      "metadata": {
        "id": "Mv2Lg7A_wKJa"
      },
      "execution_count": null,
      "outputs": []
    },
    {
      "cell_type": "code",
      "source": [
        "data.isnull()"
      ],
      "metadata": {
        "id": "8Bc0pTxJwcs1"
      },
      "execution_count": null,
      "outputs": []
    },
    {
      "cell_type": "code",
      "source": [
        "# Ya que esto es una mascara podemos:\n",
        "data[data.notnull()]"
      ],
      "metadata": {
        "id": "NBWZ_Ud_whC9"
      },
      "execution_count": null,
      "outputs": []
    },
    {
      "cell_type": "markdown",
      "source": [
        "## Remover valores nulos"
      ],
      "metadata": {
        "id": "ZBGo8h65wqjq"
      }
    },
    {
      "cell_type": "code",
      "source": [
        "data.dropna() # No es inplace a menos que lo especifiques"
      ],
      "metadata": {
        "id": "sroOBdrBwpYw"
      },
      "execution_count": null,
      "outputs": []
    },
    {
      "cell_type": "markdown",
      "source": [
        "Claro que para pandas dataframes existen mas opciones porque hay mas axis.."
      ],
      "metadata": {
        "id": "rdMf1qYTwyNo"
      }
    },
    {
      "cell_type": "code",
      "source": [
        "df = pd.DataFrame([[1,      np.nan, 2],\n",
        "                   [2,      3,      5],\n",
        "                   [np.nan, 4,      6]])\n",
        "df"
      ],
      "metadata": {
        "id": "f4bwReI7wu3g"
      },
      "execution_count": null,
      "outputs": []
    },
    {
      "cell_type": "code",
      "source": [
        "df.dropna() # Not inplace"
      ],
      "metadata": {
        "id": "qMQ4Xf4sw1Bx"
      },
      "execution_count": null,
      "outputs": []
    },
    {
      "cell_type": "code",
      "source": [
        "df.dropna(axis='columns')"
      ],
      "metadata": {
        "id": "I4_c-9xQw2ex"
      },
      "execution_count": null,
      "outputs": []
    },
    {
      "cell_type": "code",
      "source": [
        "# SE puede usar otro parametro para configurar\n",
        "df[3] = np.nan\n",
        "df"
      ],
      "metadata": {
        "id": "R_iQSrOpw5za"
      },
      "execution_count": null,
      "outputs": []
    },
    {
      "cell_type": "code",
      "source": [
        "df.dropna(axis='columns', how='all')"
      ],
      "metadata": {
        "id": "xIr5yhWkxBYz"
      },
      "execution_count": null,
      "outputs": []
    },
    {
      "cell_type": "code",
      "source": [
        "df.dropna(axis='rows', thresh=3)"
      ],
      "metadata": {
        "id": "KE9oLT3BxDV7"
      },
      "execution_count": null,
      "outputs": []
    },
    {
      "cell_type": "markdown",
      "source": [
        "### Rellenando valores nulos"
      ],
      "metadata": {
        "id": "eUIM0WIHxGSm"
      }
    },
    {
      "cell_type": "code",
      "source": [
        "data = pd.Series([1, np.nan, 2, None, 3], index=list('abcde'))\n",
        "data"
      ],
      "metadata": {
        "id": "GK6RE22FxFTU"
      },
      "execution_count": null,
      "outputs": []
    },
    {
      "cell_type": "code",
      "source": [
        "data.fillna(0)"
      ],
      "metadata": {
        "id": "cE-EEE8CxIRc"
      },
      "execution_count": null,
      "outputs": []
    },
    {
      "cell_type": "code",
      "source": [
        "# forward-fill\n",
        "data.fillna(method='ffill')"
      ],
      "metadata": {
        "id": "tQ2wEHXkxJck"
      },
      "execution_count": null,
      "outputs": []
    },
    {
      "cell_type": "code",
      "source": [
        "# back-fill\n",
        "data.fillna(method='bfill')"
      ],
      "metadata": {
        "id": "bMUyha3uxLXF"
      },
      "execution_count": null,
      "outputs": []
    },
    {
      "cell_type": "code",
      "source": [
        "# Tambien se puede en el eje 1 (columns) con los dataframes\n",
        "df"
      ],
      "metadata": {
        "id": "wpbEyp75xOn9"
      },
      "execution_count": null,
      "outputs": []
    },
    {
      "cell_type": "code",
      "source": [
        "df.fillna(method='ffill', axis = 1)"
      ],
      "metadata": {
        "id": "BAVR84NJxR1v"
      },
      "execution_count": null,
      "outputs": []
    },
    {
      "cell_type": "markdown",
      "source": [
        "Por el momento esto es todo lo que deberían de saber tanto de Pandas como de Numpy, pero aún falta hacer cositas. Resuelve los siguientes retos.\n",
        "\n",
        "- Encuentra cosas más interesantes que agregar y qué información sacar del dataframe que trabajamos o el que tu quieras.\n",
        "- ¿Cuál es el lenguaje de programación con más ususarios?\n",
        "- ¿Y el más viejo?\n",
        "- ¿Cuales son los más jóvenes?"
      ],
      "metadata": {
        "id": "oFLsB508EGYu"
      }
    },
    {
      "cell_type": "markdown",
      "source": [
        "### Extras de Pandas:\n",
        "- MultiIndexing\n",
        "- Concat and Append\n",
        "- Merge and Join\n",
        "- Aggregation and Grouping\n",
        "- Pivot Tables\n",
        "- Vectorized string operations\n",
        "- Time Series\n",
        "- eval() and query()"
      ],
      "metadata": {
        "id": "35bGIUNlx4XU"
      }
    },
    {
      "cell_type": "markdown",
      "source": [
        "# Visualizaciones básicas con Matplotlib"
      ],
      "metadata": {
        "id": "40imv2v4zJGd"
      }
    },
    {
      "cell_type": "code",
      "source": [
        "# Importacion general\n",
        "import matplotlib.pyplot as plt\n",
        "plt.style.use('classic') # Usamos los estilos clásicos (los por default están bien también, es simplemente el estilo que quieras)\n",
        "# Es la interactividad que tenemos dentro de las graficas\n",
        "%matplotlib inline"
      ],
      "metadata": {
        "id": "AY9oapkHzLnp"
      },
      "execution_count": null,
      "outputs": []
    },
    {
      "cell_type": "markdown",
      "source": [
        "## Basics\n",
        "plt.figure()\n",
        "plt.plot()"
      ],
      "metadata": {
        "id": "e8il-wrAzoeA"
      }
    },
    {
      "cell_type": "code",
      "source": [
        "x = np.linspace(0, 10, 100)\n",
        "\n",
        "fig = plt.figure()\n",
        "plt.plot(x, np.sin(x), '-')\n",
        "plt.plot(x, np.cos(x), '--');"
      ],
      "metadata": {
        "id": "JqBuiOT7zi4G"
      },
      "execution_count": null,
      "outputs": []
    },
    {
      "cell_type": "code",
      "source": [
        "# Se pueden guardar\n",
        "fig.savefig('my_figure.png')"
      ],
      "metadata": {
        "id": "-jpcI8b10UUV"
      },
      "execution_count": null,
      "outputs": []
    },
    {
      "cell_type": "markdown",
      "source": [
        "## Multi-Graficas!\n"
      ],
      "metadata": {
        "id": "hjXw-SeD0l3X"
      }
    },
    {
      "cell_type": "code",
      "source": [
        "plt.figure()  # create a plot figure\n",
        "\n",
        "# create the first of two panels and set current axis\n",
        "plt.subplot(2, 1, 1) # (rows, columns, panel number)\n",
        "plt.plot(x, np.sin(x))\n",
        "\n",
        "# create the second panel and set current axis\n",
        "plt.subplot(2, 1, 2)\n",
        "plt.plot(x, np.cos(x))\n",
        "plt.show()"
      ],
      "metadata": {
        "id": "a0lTMIsL0oqA"
      },
      "execution_count": null,
      "outputs": []
    },
    {
      "cell_type": "markdown",
      "source": [
        "## Aproximacion con objetos!"
      ],
      "metadata": {
        "id": "KsahI-yC0tkc"
      }
    },
    {
      "cell_type": "code",
      "source": [
        "# First create a grid of plots\n",
        "# ax will be an array of two Axes objects\n",
        "fig, ax = plt.subplots(2)\n",
        "\n",
        "# Call plot() method on the appropriate object\n",
        "ax[0].plot(x, np.sin(x))\n",
        "ax[1].plot(x, np.cos(x));"
      ],
      "metadata": {
        "id": "i7WJJHxG0tF-"
      },
      "execution_count": null,
      "outputs": []
    },
    {
      "cell_type": "markdown",
      "source": [
        "## Muchas graficas!"
      ],
      "metadata": {
        "id": "ktvY44Bs04AO"
      }
    },
    {
      "cell_type": "code",
      "source": [
        "x = np.linspace(0, 10, 1000)"
      ],
      "metadata": {
        "id": "0H10crgP086V"
      },
      "execution_count": null,
      "outputs": []
    },
    {
      "cell_type": "code",
      "source": [
        "plt.plot(x, x + 0, linestyle='solid')\n",
        "plt.plot(x, x + 1, linestyle='dashed')\n",
        "plt.plot(x, x + 2, linestyle='dashdot')\n",
        "plt.plot(x, x + 3, linestyle='dotted');\n",
        "\n",
        "# For short, you can use the following codes:\n",
        "plt.plot(x, x + 4, linestyle='-')  # solid\n",
        "plt.plot(x, x + 5, linestyle='--') # dashed\n",
        "plt.plot(x, x + 6, linestyle='-.') # dashdot\n",
        "plt.plot(x, x + 7, linestyle=':');  # dotted"
      ],
      "metadata": {
        "id": "FNA1Yv6U05Gq"
      },
      "execution_count": null,
      "outputs": []
    },
    {
      "cell_type": "markdown",
      "source": [
        "## Colores"
      ],
      "metadata": {
        "id": "f5dDdbzI2LY8"
      }
    },
    {
      "cell_type": "code",
      "source": [
        "plt.plot(x, np.sin(x - 0), color='blue')        # specify color by name\n",
        "plt.plot(x, np.sin(x - 1), color='g')           # short color code (rgbcmyk)\n",
        "plt.plot(x, np.sin(x - 2), color='0.75')        # Grayscale between 0 and 1\n",
        "plt.plot(x, np.sin(x - 3), color='#FFDD44')     # Hex code (RRGGBB from 00 to FF)\n",
        "plt.plot(x, np.sin(x - 4), color=(1.0,0.2,0.3)) # RGB tuple, values 0 to 1\n",
        "plt.plot(x, np.sin(x - 5), color='chartreuse'); # all HTML color names supported"
      ],
      "metadata": {
        "id": "T7P_70ep2Mhv"
      },
      "execution_count": null,
      "outputs": []
    },
    {
      "cell_type": "markdown",
      "source": [
        "## Labeling"
      ],
      "metadata": {
        "id": "K4A0qCgf2cID"
      }
    },
    {
      "cell_type": "code",
      "source": [
        "plt.plot(x, np.sin(x))\n",
        "plt.title(\"A Sine Curve\")\n",
        "plt.xlabel(\"x\")\n",
        "plt.ylabel(\"sin(x)\");"
      ],
      "metadata": {
        "id": "Kjh3YUac2OFB"
      },
      "execution_count": null,
      "outputs": []
    },
    {
      "cell_type": "code",
      "source": [
        "plt.plot(x, np.sin(x), '-g', label='sin(x)')\n",
        "plt.plot(x, np.cos(x), ':b', label='cos(x)')\n",
        "plt.axis('equal')\n",
        "\n",
        "plt.legend();"
      ],
      "metadata": {
        "id": "2lbqHoDJ2fCz"
      },
      "execution_count": null,
      "outputs": []
    },
    {
      "cell_type": "markdown",
      "source": [
        "## Scatter plots"
      ],
      "metadata": {
        "id": "N7skvsd42m6N"
      }
    },
    {
      "cell_type": "code",
      "source": [
        "plt.style.use('seaborn-v0_8-whitegrid') # Para la cuadricula bonita"
      ],
      "metadata": {
        "id": "b0NuLx4228cw"
      },
      "execution_count": null,
      "outputs": []
    },
    {
      "cell_type": "code",
      "source": [
        "x = np.linspace(0, 10, 30)\n",
        "y = np.sin(x)\n",
        "\n",
        "plt.plot(x, y, 'o', color='black');"
      ],
      "metadata": {
        "id": "Yr6hXHL-2gkT"
      },
      "execution_count": null,
      "outputs": []
    },
    {
      "cell_type": "code",
      "source": [
        "# Configuracion de markers\n",
        "rng = np.random.RandomState(0)\n",
        "for marker in ['o', '.', ',', 'x', '+', 'v', '^', '<', '>', 's', 'd']:\n",
        "    plt.plot(rng.rand(5), rng.rand(5), marker,\n",
        "             label=\"marker='{0}'\".format(marker))\n",
        "plt.legend(numpoints=1)\n",
        "plt.xlim(0, 1.8);"
      ],
      "metadata": {
        "id": "PIUlLGkC2o8k"
      },
      "execution_count": null,
      "outputs": []
    },
    {
      "cell_type": "code",
      "source": [
        "# Configuracion de tamaño\n",
        "rng = np.random.RandomState(0)\n",
        "x = rng.randn(100)\n",
        "y = rng.randn(100)\n",
        "colors = rng.rand(100)\n",
        "sizes = 1000 * rng.rand(100)\n",
        "\n",
        "plt.scatter(x, y, c=colors, s=sizes, alpha=0.3,\n",
        "            cmap='viridis')\n",
        "plt.colorbar();  # show color scale"
      ],
      "metadata": {
        "id": "bx9oUcBQ2qKU"
      },
      "execution_count": null,
      "outputs": []
    },
    {
      "cell_type": "code",
      "source": [
        "# Carga de datasets y plot inmediato!\n",
        "from sklearn.datasets import load_iris\n",
        "iris = load_iris()\n",
        "features = iris.data.T\n",
        "\n",
        "plt.scatter(features[0], features[1], alpha=0.2,\n",
        "            s=100*features[3], c=iris.target, cmap='viridis')\n",
        "plt.xlabel(iris.feature_names[0])\n",
        "plt.ylabel(iris.feature_names[1]);"
      ],
      "metadata": {
        "id": "SdsiLZQH21OR"
      },
      "execution_count": null,
      "outputs": []
    },
    {
      "cell_type": "markdown",
      "source": [
        "# Ejemplitos"
      ],
      "metadata": {
        "id": "MRKtqgYz3N1K"
      }
    },
    {
      "cell_type": "code",
      "source": [
        "def f(x, y):\n",
        "    return np.sin(x) ** 10 + np.cos(10 + y * x) * np.cos(x)\n",
        "\n",
        "x = np.linspace(0, 5, 50)\n",
        "y = np.linspace(0, 5, 40)\n",
        "\n",
        "X, Y = np.meshgrid(x, y)\n",
        "Z = f(X, Y)\n",
        "plt.contour(X, Y, Z, colors='black');"
      ],
      "metadata": {
        "id": "fzK0Iy4R3OfK"
      },
      "execution_count": null,
      "outputs": []
    },
    {
      "cell_type": "code",
      "source": [
        "plt.contour(X, Y, Z, 20, cmap='RdGy');"
      ],
      "metadata": {
        "id": "n8AB-uaG3qy6"
      },
      "execution_count": null,
      "outputs": []
    },
    {
      "cell_type": "code",
      "source": [
        "contours = plt.contour(X, Y, Z, 3, colors='black')\n",
        "plt.clabel(contours, inline=True, fontsize=8)\n",
        "\n",
        "plt.imshow(Z, extent=[0, 5, 0, 5], origin='lower',\n",
        "           cmap='RdGy', alpha=0.5)\n",
        "plt.colorbar();"
      ],
      "metadata": {
        "id": "4U4s1_ad3xzt"
      },
      "execution_count": null,
      "outputs": []
    },
    {
      "cell_type": "code",
      "source": [
        "plt.style.use('seaborn-v0_8-white')\n",
        "\n",
        "data = np.random.randn(1000)"
      ],
      "metadata": {
        "id": "_cILvG4g3yH1"
      },
      "execution_count": null,
      "outputs": []
    },
    {
      "cell_type": "code",
      "source": [
        "plt.hist(data);"
      ],
      "metadata": {
        "id": "NZ2le5cE317A"
      },
      "execution_count": null,
      "outputs": []
    },
    {
      "cell_type": "code",
      "source": [
        "x1 = np.random.normal(0, 0.8, 1000)\n",
        "x2 = np.random.normal(-2, 1, 1000)\n",
        "x3 = np.random.normal(3, 2, 1000)\n",
        "\n",
        "kwargs = dict(histtype='stepfilled', alpha=0.3, density=True, bins=40)\n",
        "\n",
        "plt.hist(x1, **kwargs)\n",
        "plt.hist(x2, **kwargs)\n",
        "plt.hist(x3, **kwargs);"
      ],
      "metadata": {
        "id": "ELtrNoU235Yr"
      },
      "execution_count": null,
      "outputs": []
    },
    {
      "cell_type": "code",
      "source": [
        "# Histogramas en 2 dimensiones\n",
        "mean = [0, 0]\n",
        "cov = [[1, 1], [1, 2]]\n",
        "x, y = np.random.multivariate_normal(mean, cov, 10000).T"
      ],
      "metadata": {
        "id": "LrrmOrMC4WKI"
      },
      "execution_count": null,
      "outputs": []
    },
    {
      "cell_type": "code",
      "source": [
        "from scipy.stats import gaussian_kde\n",
        "\n",
        "# fit an array of size [Ndim, Nsamples]\n",
        "data = np.vstack([x, y])\n",
        "kde = gaussian_kde(data)\n",
        "\n",
        "# evaluate on a regular grid\n",
        "xgrid = np.linspace(-3.5, 3.5, 40)\n",
        "ygrid = np.linspace(-6, 6, 40)\n",
        "Xgrid, Ygrid = np.meshgrid(xgrid, ygrid)\n",
        "Z = kde.evaluate(np.vstack([Xgrid.ravel(), Ygrid.ravel()]))\n",
        "\n",
        "# Plot the result as an image\n",
        "plt.imshow(Z.reshape(Xgrid.shape),\n",
        "           origin='lower', aspect='auto',\n",
        "           extent=[-3.5, 3.5, -6, 6],\n",
        "           cmap='Blues')\n",
        "cb = plt.colorbar()\n",
        "cb.set_label(\"density\")\n"
      ],
      "metadata": {
        "id": "2VcDo9tR4Qla"
      },
      "execution_count": null,
      "outputs": []
    },
    {
      "cell_type": "code",
      "source": [
        "# load images of the digits 0 through 5 and visualize several of them\n",
        "from sklearn.datasets import load_digits\n",
        "digits = load_digits(n_class=6)\n",
        "\n",
        "fig, ax = plt.subplots(8, 8, figsize=(6, 6))\n",
        "for i, axi in enumerate(ax.flat):\n",
        "    axi.imshow(digits.images[i], cmap='binary')\n",
        "    axi.set(xticks=[], yticks=[])"
      ],
      "metadata": {
        "id": "xxJi7mcR4fkQ"
      },
      "execution_count": null,
      "outputs": []
    },
    {
      "cell_type": "code",
      "source": [
        "# Colorbars\n",
        "from sklearn.manifold import Isomap\n",
        "import matplotlib\n",
        "iso = Isomap(n_components=2)\n",
        "projection = iso.fit_transform(digits.data)"
      ],
      "metadata": {
        "id": "D9Gme4Bv369K"
      },
      "execution_count": null,
      "outputs": []
    },
    {
      "cell_type": "code",
      "source": [
        "# plot the results\n",
        "plt.scatter(projection[:, 0], projection[:, 1], lw=0.1,\n",
        "            c=digits.target, cmap=matplotlib.colormaps['cubehelix'])\n",
        "plt.colorbar(ticks=range(6), label='digit value')\n",
        "plt.clim(-0.5, 5.5)"
      ],
      "metadata": {
        "id": "-Nyjp3Zr4gUo"
      },
      "execution_count": null,
      "outputs": []
    },
    {
      "cell_type": "code",
      "source": [
        "# Subplots\n",
        "# Create some normally distributed data\n",
        "mean = [0, 0]\n",
        "cov = [[1, 1], [1, 2]]\n",
        "x, y = np.random.multivariate_normal(mean, cov, 3000).T\n",
        "\n",
        "# Set up the axes with gridspec\n",
        "fig = plt.figure(figsize=(6, 6))\n",
        "grid = plt.GridSpec(4, 4, hspace=0.2, wspace=0.2)\n",
        "main_ax = fig.add_subplot(grid[:-1, 1:])\n",
        "y_hist = fig.add_subplot(grid[:-1, 0], xticklabels=[], sharey=main_ax)\n",
        "x_hist = fig.add_subplot(grid[-1, 1:], yticklabels=[], sharex=main_ax)\n",
        "\n",
        "# scatter points on the main axes\n",
        "main_ax.plot(x, y, 'ok', markersize=3, alpha=0.2)\n",
        "\n",
        "# histogram on the attached axes\n",
        "x_hist.hist(x, 40, histtype='stepfilled',\n",
        "            orientation='vertical', color='gray')\n",
        "x_hist.invert_yaxis()\n",
        "\n",
        "y_hist.hist(y, 40, histtype='stepfilled',\n",
        "            orientation='horizontal', color='gray')\n",
        "y_hist.invert_xaxis()"
      ],
      "metadata": {
        "id": "VYLFyB-_4drP"
      },
      "execution_count": null,
      "outputs": []
    },
    {
      "cell_type": "code",
      "source": [
        "# Plots en 3D\n",
        "def f(x, y):\n",
        "    return np.sin(np.sqrt(x ** 2 + y ** 2))\n",
        "\n",
        "x = np.linspace(-6, 6, 30)\n",
        "y = np.linspace(-6, 6, 30)\n",
        "\n",
        "X, Y = np.meshgrid(x, y)\n",
        "Z = f(X, Y)"
      ],
      "metadata": {
        "id": "XdzDF_-L5DVG"
      },
      "execution_count": null,
      "outputs": []
    },
    {
      "cell_type": "code",
      "source": [
        "r = np.linspace(0, 6, 20)\n",
        "theta = np.linspace(-0.9 * np.pi, 0.8 * np.pi, 40)\n",
        "r, theta = np.meshgrid(r, theta)\n",
        "\n",
        "X = r * np.sin(theta)\n",
        "Y = r * np.cos(theta)\n",
        "Z = f(X, Y)\n",
        "\n",
        "ax = plt.axes(projection='3d')\n",
        "ax.plot_surface(X, Y, Z, rstride=1, cstride=1,\n",
        "                cmap='viridis', edgecolor='none');"
      ],
      "metadata": {
        "id": "1RCEpWEi5GJl"
      },
      "execution_count": null,
      "outputs": []
    },
    {
      "cell_type": "markdown",
      "source": [
        "# Seaborn\n"
      ],
      "metadata": {
        "id": "F-Dg8mWA5k_F"
      }
    },
    {
      "cell_type": "code",
      "source": [
        "# Comparacion\n",
        "import matplotlib.pyplot as plt\n",
        "plt.style.use('classic')\n",
        "%matplotlib inline\n",
        "import numpy as np\n",
        "import pandas as pd"
      ],
      "metadata": {
        "id": "cjVb6gd55H-v"
      },
      "execution_count": null,
      "outputs": []
    },
    {
      "cell_type": "code",
      "source": [
        "# Create some data\n",
        "rng = np.random.RandomState(0)\n",
        "x = np.linspace(0, 10, 500)\n",
        "y = np.cumsum(rng.randn(500, 6), 0)"
      ],
      "metadata": {
        "id": "B24ZYLMy5y3s"
      },
      "execution_count": null,
      "outputs": []
    },
    {
      "cell_type": "code",
      "source": [
        "# Plot the data with Matplotlib defaults\n",
        "plt.plot(x, y)\n",
        "plt.legend('ABCDEF', ncol=2, loc='upper left');"
      ],
      "metadata": {
        "id": "RDJ7Xz065z44"
      },
      "execution_count": null,
      "outputs": []
    },
    {
      "cell_type": "code",
      "source": [
        "import seaborn as sns\n",
        "sns.set()"
      ],
      "metadata": {
        "id": "UdYadL3N505m"
      },
      "execution_count": null,
      "outputs": []
    },
    {
      "cell_type": "code",
      "source": [
        "# Mas cute\n",
        "plt.plot(x, y)\n",
        "plt.legend('ABCDEF', ncol=2, loc='upper left');"
      ],
      "metadata": {
        "id": "Ni5zO36P52hQ"
      },
      "execution_count": null,
      "outputs": []
    },
    {
      "cell_type": "code",
      "source": [
        "# Se usa con pandas!\n",
        "iris = sns.load_dataset(\"iris\")\n",
        "iris.head()"
      ],
      "metadata": {
        "id": "gEO_IkhH54rx"
      },
      "execution_count": null,
      "outputs": []
    },
    {
      "cell_type": "code",
      "source": [
        "sns.pairplot(iris, hue='species', height=2.5);"
      ],
      "metadata": {
        "id": "6zh4kywd6O-l"
      },
      "execution_count": null,
      "outputs": []
    },
    {
      "cell_type": "markdown",
      "source": [
        "# Extra:\n",
        "- https://python-graph-gallery.com/\n",
        "- https://plotly.com/python/"
      ],
      "metadata": {
        "id": "aYSKRMac7UVU"
      }
    },
    {
      "cell_type": "code",
      "source": [
        "# TAMBIÉN SE PUEDEN IMÁGENES!\n",
        "# Adapted from astroML: see http://www.astroml.org/book_figures/appendix/fig_broadcast_visual.html\n",
        "import numpy as np\n",
        "from matplotlib import pyplot as plt\n",
        "\n",
        "#------------------------------------------------------------\n",
        "# Draw a figure and axis with no boundary\n",
        "fig = plt.figure(figsize=(6, 4.5), facecolor='w')\n",
        "ax = plt.axes([0, 0, 1, 1], xticks=[], yticks=[], frameon=False)\n",
        "\n",
        "\n",
        "def draw_cube(ax, xy, size, depth=0.4,\n",
        "              edges=None, label=None, label_kwargs=None, **kwargs):\n",
        "    \"\"\"draw and label a cube.  edges is a list of numbers between\n",
        "    1 and 12, specifying which of the 12 cube edges to draw\"\"\"\n",
        "    if edges is None:\n",
        "        edges = range(1, 13)\n",
        "\n",
        "    x, y = xy\n",
        "\n",
        "    if 1 in edges:\n",
        "        ax.plot([x, x + size],\n",
        "                [y + size, y + size], **kwargs)\n",
        "    if 2 in edges:\n",
        "        ax.plot([x + size, x + size],\n",
        "                [y, y + size], **kwargs)\n",
        "    if 3 in edges:\n",
        "        ax.plot([x, x + size],\n",
        "                [y, y], **kwargs)\n",
        "    if 4 in edges:\n",
        "        ax.plot([x, x],\n",
        "                [y, y + size], **kwargs)\n",
        "\n",
        "    if 5 in edges:\n",
        "        ax.plot([x, x + depth],\n",
        "                [y + size, y + depth + size], **kwargs)\n",
        "    if 6 in edges:\n",
        "        ax.plot([x + size, x + size + depth],\n",
        "                [y + size, y + depth + size], **kwargs)\n",
        "    if 7 in edges:\n",
        "        ax.plot([x + size, x + size + depth],\n",
        "                [y, y + depth], **kwargs)\n",
        "    if 8 in edges:\n",
        "        ax.plot([x, x + depth],\n",
        "                [y, y + depth], **kwargs)\n",
        "\n",
        "    if 9 in edges:\n",
        "        ax.plot([x + depth, x + depth + size],\n",
        "                [y + depth + size, y + depth + size], **kwargs)\n",
        "    if 10 in edges:\n",
        "        ax.plot([x + depth + size, x + depth + size],\n",
        "                [y + depth, y + depth + size], **kwargs)\n",
        "    if 11 in edges:\n",
        "        ax.plot([x + depth, x + depth + size],\n",
        "                [y + depth, y + depth], **kwargs)\n",
        "    if 12 in edges:\n",
        "        ax.plot([x + depth, x + depth],\n",
        "                [y + depth, y + depth + size], **kwargs)\n",
        "\n",
        "    if label:\n",
        "        if label_kwargs is None:\n",
        "            label_kwargs = {}\n",
        "        ax.text(x + 0.5 * size, y + 0.5 * size, label,\n",
        "                ha='center', va='center', **label_kwargs)\n",
        "\n",
        "solid = dict(c='black', ls='-', lw=1,\n",
        "             label_kwargs=dict(color='k'))\n",
        "dotted = dict(c='black', ls='-', lw=0.5, alpha=0.5,\n",
        "              label_kwargs=dict(color='gray'))\n",
        "depth = 0.3\n",
        "\n",
        "#------------------------------------------------------------\n",
        "# Draw top operation: vector plus scalar\n",
        "draw_cube(ax, (1, 10), 1, depth, [1, 2, 3, 4, 5, 6, 9], '0', **solid)\n",
        "draw_cube(ax, (2, 10), 1, depth, [1, 2, 3, 6, 9], '1', **solid)\n",
        "draw_cube(ax, (3, 10), 1, depth, [1, 2, 3, 6, 7, 9, 10], '2', **solid)\n",
        "\n",
        "draw_cube(ax, (6, 10), 1, depth, [1, 2, 3, 4, 5, 6, 7, 9, 10], '5', **solid)\n",
        "draw_cube(ax, (7, 10), 1, depth, [1, 2, 3, 6, 7, 9, 10, 11], '5', **dotted)\n",
        "draw_cube(ax, (8, 10), 1, depth, [1, 2, 3, 6, 7, 9, 10, 11], '5', **dotted)\n",
        "\n",
        "draw_cube(ax, (12, 10), 1, depth, [1, 2, 3, 4, 5, 6, 9], '5', **solid)\n",
        "draw_cube(ax, (13, 10), 1, depth, [1, 2, 3, 6, 9], '6', **solid)\n",
        "draw_cube(ax, (14, 10), 1, depth, [1, 2, 3, 6, 7, 9, 10], '7', **solid)\n",
        "\n",
        "ax.text(5, 10.5, '+', size=12, ha='center', va='center')\n",
        "ax.text(10.5, 10.5, '=', size=12, ha='center', va='center')\n",
        "ax.text(1, 11.5, r'${\\tt np.arange(3) + 5}$',\n",
        "        size=12, ha='left', va='bottom')\n",
        "\n",
        "#------------------------------------------------------------\n",
        "# Draw middle operation: matrix plus vector\n",
        "\n",
        "# first block\n",
        "draw_cube(ax, (1, 7.5), 1, depth, [1, 2, 3, 4, 5, 6, 9], '1', **solid)\n",
        "draw_cube(ax, (2, 7.5), 1, depth, [1, 2, 3, 6, 9], '1', **solid)\n",
        "draw_cube(ax, (3, 7.5), 1, depth, [1, 2, 3, 6, 7, 9, 10], '1', **solid)\n",
        "\n",
        "draw_cube(ax, (1, 6.5), 1, depth, [2, 3, 4], '1', **solid)\n",
        "draw_cube(ax, (2, 6.5), 1, depth, [2, 3], '1', **solid)\n",
        "draw_cube(ax, (3, 6.5), 1, depth, [2, 3, 7, 10], '1', **solid)\n",
        "\n",
        "draw_cube(ax, (1, 5.5), 1, depth, [2, 3, 4], '1', **solid)\n",
        "draw_cube(ax, (2, 5.5), 1, depth, [2, 3], '1', **solid)\n",
        "draw_cube(ax, (3, 5.5), 1, depth, [2, 3, 7, 10], '1', **solid)\n",
        "\n",
        "# second block\n",
        "draw_cube(ax, (6, 7.5), 1, depth, [1, 2, 3, 4, 5, 6, 9], '0', **solid)\n",
        "draw_cube(ax, (7, 7.5), 1, depth, [1, 2, 3, 6, 9], '1', **solid)\n",
        "draw_cube(ax, (8, 7.5), 1, depth, [1, 2, 3, 6, 7, 9, 10], '2', **solid)\n",
        "\n",
        "draw_cube(ax, (6, 6.5), 1, depth, range(2, 13), '0', **dotted)\n",
        "draw_cube(ax, (7, 6.5), 1, depth, [2, 3, 6, 7, 9, 10, 11], '1', **dotted)\n",
        "draw_cube(ax, (8, 6.5), 1, depth, [2, 3, 6, 7, 9, 10, 11], '2', **dotted)\n",
        "\n",
        "draw_cube(ax, (6, 5.5), 1, depth, [2, 3, 4, 7, 8, 10, 11, 12], '0', **dotted)\n",
        "draw_cube(ax, (7, 5.5), 1, depth, [2, 3, 7, 10, 11], '1', **dotted)\n",
        "draw_cube(ax, (8, 5.5), 1, depth, [2, 3, 7, 10, 11], '2', **dotted)\n",
        "\n",
        "# third block\n",
        "draw_cube(ax, (12, 7.5), 1, depth, [1, 2, 3, 4, 5, 6, 9], '1', **solid)\n",
        "draw_cube(ax, (13, 7.5), 1, depth, [1, 2, 3, 6, 9], '2', **solid)\n",
        "draw_cube(ax, (14, 7.5), 1, depth, [1, 2, 3, 6, 7, 9, 10], '3', **solid)\n",
        "\n",
        "draw_cube(ax, (12, 6.5), 1, depth, [2, 3, 4], '1', **solid)\n",
        "draw_cube(ax, (13, 6.5), 1, depth, [2, 3], '2', **solid)\n",
        "draw_cube(ax, (14, 6.5), 1, depth, [2, 3, 7, 10], '3', **solid)\n",
        "\n",
        "draw_cube(ax, (12, 5.5), 1, depth, [2, 3, 4], '1', **solid)\n",
        "draw_cube(ax, (13, 5.5), 1, depth, [2, 3], '2', **solid)\n",
        "draw_cube(ax, (14, 5.5), 1, depth, [2, 3, 7, 10], '3', **solid)\n",
        "\n",
        "ax.text(5, 7.0, '+', size=12, ha='center', va='center')\n",
        "ax.text(10.5, 7.0, '=', size=12, ha='center', va='center')\n",
        "ax.text(1, 9.0, r'${\\tt np.ones((3,\\, 3)) + np.arange(3)}$',\n",
        "        size=12, ha='left', va='bottom')\n",
        "\n",
        "#------------------------------------------------------------\n",
        "# Draw bottom operation: vector plus vector, double broadcast\n",
        "\n",
        "# first block\n",
        "draw_cube(ax, (1, 3), 1, depth, [1, 2, 3, 4, 5, 6, 7, 9, 10], '0', **solid)\n",
        "draw_cube(ax, (1, 2), 1, depth, [2, 3, 4, 7, 10], '1', **solid)\n",
        "draw_cube(ax, (1, 1), 1, depth, [2, 3, 4, 7, 10], '2', **solid)\n",
        "\n",
        "draw_cube(ax, (2, 3), 1, depth, [1, 2, 3, 6, 7, 9, 10, 11], '0', **dotted)\n",
        "draw_cube(ax, (2, 2), 1, depth, [2, 3, 7, 10, 11], '1', **dotted)\n",
        "draw_cube(ax, (2, 1), 1, depth, [2, 3, 7, 10, 11], '2', **dotted)\n",
        "\n",
        "draw_cube(ax, (3, 3), 1, depth, [1, 2, 3, 6, 7, 9, 10, 11], '0', **dotted)\n",
        "draw_cube(ax, (3, 2), 1, depth, [2, 3, 7, 10, 11], '1', **dotted)\n",
        "draw_cube(ax, (3, 1), 1, depth, [2, 3, 7, 10, 11], '2', **dotted)\n",
        "\n",
        "# second block\n",
        "draw_cube(ax, (6, 3), 1, depth, [1, 2, 3, 4, 5, 6, 9], '0', **solid)\n",
        "draw_cube(ax, (7, 3), 1, depth, [1, 2, 3, 6, 9], '1', **solid)\n",
        "draw_cube(ax, (8, 3), 1, depth, [1, 2, 3, 6, 7, 9, 10], '2', **solid)\n",
        "\n",
        "draw_cube(ax, (6, 2), 1, depth, range(2, 13), '0', **dotted)\n",
        "draw_cube(ax, (7, 2), 1, depth, [2, 3, 6, 7, 9, 10, 11], '1', **dotted)\n",
        "draw_cube(ax, (8, 2), 1, depth, [2, 3, 6, 7, 9, 10, 11], '2', **dotted)\n",
        "\n",
        "draw_cube(ax, (6, 1), 1, depth, [2, 3, 4, 7, 8, 10, 11, 12], '0', **dotted)\n",
        "draw_cube(ax, (7, 1), 1, depth, [2, 3, 7, 10, 11], '1', **dotted)\n",
        "draw_cube(ax, (8, 1), 1, depth, [2, 3, 7, 10, 11], '2', **dotted)\n",
        "\n",
        "# third block\n",
        "draw_cube(ax, (12, 3), 1, depth, [1, 2, 3, 4, 5, 6, 9], '0', **solid)\n",
        "draw_cube(ax, (13, 3), 1, depth, [1, 2, 3, 6, 9], '1', **solid)\n",
        "draw_cube(ax, (14, 3), 1, depth, [1, 2, 3, 6, 7, 9, 10], '2', **solid)\n",
        "\n",
        "draw_cube(ax, (12, 2), 1, depth, [2, 3, 4], '1', **solid)\n",
        "draw_cube(ax, (13, 2), 1, depth, [2, 3], '2', **solid)\n",
        "draw_cube(ax, (14, 2), 1, depth, [2, 3, 7, 10], '3', **solid)\n",
        "\n",
        "draw_cube(ax, (12, 1), 1, depth, [2, 3, 4], '2', **solid)\n",
        "draw_cube(ax, (13, 1), 1, depth, [2, 3], '3', **solid)\n",
        "draw_cube(ax, (14, 1), 1, depth, [2, 3, 7, 10], '4', **solid)\n",
        "\n",
        "ax.text(5, 2.5, '+', size=12, ha='center', va='center')\n",
        "ax.text(10.5, 2.5, '=', size=12, ha='center', va='center')\n",
        "ax.text(1, 4.5, r'${\\tt np.arange(3).reshape((3,\\, 1)) + np.arange(3)}$',\n",
        "        ha='left', size=12, va='bottom')\n",
        "\n",
        "ax.set_xlim(0, 16)\n",
        "ax.set_ylim(0.5, 12.5);"
      ],
      "metadata": {
        "id": "t4GnACX9fPWF"
      },
      "execution_count": null,
      "outputs": []
    },
    {
      "cell_type": "markdown",
      "source": [
        "Extra: https://colab.research.google.com/drive/1nQ4ZXIYQX6Mi7pu5drZ16IVC7LezBgES?usp=sharing"
      ],
      "metadata": {
        "id": "wEvSQcUMKTXM"
      }
    },
    {
      "cell_type": "markdown",
      "source": [
        "> Contenido creado por por **David (Bubu)** (2023). <br>\n",
        "> **Contacto:** [@bubusaurio_rex](https://www.instagram.com/bubusaurio_rex/)"
      ],
      "metadata": {
        "id": "nL-GJMp5ETpW"
      }
    },
    {
      "cell_type": "code",
      "source": [],
      "metadata": {
        "id": "fd-rlcefODwZ"
      },
      "execution_count": null,
      "outputs": []
    }
  ]
}