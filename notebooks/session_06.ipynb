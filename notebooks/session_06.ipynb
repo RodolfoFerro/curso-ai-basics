{
  "nbformat": 4,
  "nbformat_minor": 0,
  "metadata": {
    "colab": {
      "provenance": [],
      "collapsed_sections": [
        "MrvykO3jXLNc"
      ],
      "include_colab_link": true
    },
    "kernelspec": {
      "name": "python3",
      "display_name": "Python 3"
    },
    "accelerator": "GPU",
    "gpuClass": "standard"
  },
  "cells": [
    {
      "cell_type": "markdown",
      "metadata": {
        "id": "view-in-github",
        "colab_type": "text"
      },
      "source": [
        "<a href=\"https://colab.research.google.com/github/RodolfoFerro/curso-ai-basics/blob/main/notebooks/session_06.ipynb\" target=\"_parent\"><img src=\"https://colab.research.google.com/assets/colab-badge.svg\" alt=\"Open In Colab\"/></a>"
      ]
    },
    {
      "cell_type": "markdown",
      "metadata": {
        "id": "R6jO_1gISKxk"
      },
      "source": [
        "# Redes neuronales artificiales con TensorFlow  🧠\n",
        "\n",
        "## Contenido\n",
        "\n",
        "### Sección IV\n",
        "\n",
        "12. Introducción a redes neuronales\n",
        "13. Productos matriciales - Composición de funciones\n",
        "14. Idea intuitiva sobre la retropropagación\n",
        "15. El problema de separabilidad lineal - XOR\n",
        "\n",
        "### Sección V\n",
        "\n",
        "16. Introducción a TensorFlow\n",
        "17. Mi primera red neuronal\n",
        "18. Función de pérdida y optimizador\n",
        "19. Entrenamiento y predicciones\n",
        "\n",
        "### Sección VI – Tarea\n",
        "\n",
        "20. El dataset a utilizar\n",
        "21. Preparación de los datos\n",
        "22. Creación del modelo\n",
        "23. Entrenamiento del modelo\n",
        "24. Evaluación y predicción"
      ]
    },
    {
      "cell_type": "markdown",
      "metadata": {
        "id": "KlQl_jAunKvb"
      },
      "source": [
        "## **Sección IV**"
      ]
    },
    {
      "cell_type": "markdown",
      "source": [
        "**IMPORTANTE**\n",
        "\n",
        "El contenido de la sección IV ha sido descrito en su totalidad a través de la presentación.\n",
        "\n",
        "Conviene revisar el material que puedes encontrar en el [repositorio](https://github.com/RodolfoFerro/curso-ai-basics)."
      ],
      "metadata": {
        "id": "MrvykO3jXLNc"
      }
    },
    {
      "cell_type": "markdown",
      "source": [
        "## **Sección V**"
      ],
      "metadata": {
        "id": "vO4Y2Ih0XJpn"
      }
    },
    {
      "cell_type": "markdown",
      "source": [
        "### **Introducción a TensorFlow**\n",
        "\n",
        "[TensorFlow](https://www.tensorflow.org/) es un framework open-source para Machine Learning desarrollada por Google. Utilizada para construir y entrenar redes neuronales artificiales."
      ],
      "metadata": {
        "id": "fp687hVHnOxo"
      }
    },
    {
      "cell_type": "code",
      "source": [
        "import numpy as np\n",
        "\n",
        "\n",
        "x = np.array([(0, 0), (1, 0), (0, 1), (1, 1)])\n",
        "y = np.array([0, 1, 1, 0])"
      ],
      "metadata": {
        "id": "GbI7sI3GRLvO"
      },
      "execution_count": null,
      "outputs": []
    },
    {
      "cell_type": "code",
      "source": [
        "import tensorflow as tf\n",
        "\n",
        "\n",
        "model = tf.keras.models.Sequential([\n",
        "    tf.keras.layers.Dense(2, activation='tanh', input_shape=(2, )),\n",
        "    tf.keras.layers.Dense(1, activation='sigmoid')\n",
        "])"
      ],
      "metadata": {
        "id": "7UId24PBOUdL"
      },
      "execution_count": null,
      "outputs": []
    },
    {
      "cell_type": "code",
      "source": [
        "model.predict([[1, 1]])"
      ],
      "metadata": {
        "id": "YDrqviMejqWL"
      },
      "execution_count": null,
      "outputs": []
    },
    {
      "cell_type": "markdown",
      "source": [
        "### **Optimizador y función de pérdida**"
      ],
      "metadata": {
        "id": "oILbTIcpZzF2"
      }
    },
    {
      "cell_type": "code",
      "source": [
        "loss = tf.keras.losses.MeanSquaredError()"
      ],
      "metadata": {
        "id": "mFFUMXpxZo0x"
      },
      "execution_count": null,
      "outputs": []
    },
    {
      "cell_type": "markdown",
      "source": [
        "$$ \\mathrm{MSE}=\\frac{1}{N}\\cdot\\sum_{i=1}^N \\left(y_i- \\hat{y}_i \\right )^2 $$"
      ],
      "metadata": {
        "id": "BP04BMThkScl"
      }
    },
    {
      "cell_type": "code",
      "source": [
        "loss([1], [0])"
      ],
      "metadata": {
        "id": "0A56ubLybjZL"
      },
      "execution_count": null,
      "outputs": []
    },
    {
      "cell_type": "code",
      "source": [
        "optimizer = tf.keras.optimizers.SGD(learning_rate=0.6)\n",
        "\n",
        "model.compile(optimizer=optimizer, loss='mse', metrics=[loss])"
      ],
      "metadata": {
        "id": "MFK38I_GbOyN"
      },
      "execution_count": null,
      "outputs": []
    },
    {
      "cell_type": "code",
      "source": [
        "model.summary()"
      ],
      "metadata": {
        "id": "wT5kqY2YcbVv"
      },
      "execution_count": null,
      "outputs": []
    },
    {
      "cell_type": "code",
      "source": [
        "history = model.fit(x, y, epochs=1000)"
      ],
      "metadata": {
        "id": "fDQ4fPJxbtbO"
      },
      "execution_count": null,
      "outputs": []
    },
    {
      "cell_type": "code",
      "source": [
        "import plotly.express as px\n",
        "\n",
        "\n",
        "losses = history.history['loss']\n",
        "eje_x = np.arange(len(losses))\n",
        "\n",
        "fig = px.line(\n",
        "    x=eje_x,\n",
        "    y=losses,\n",
        "    title='Historia de entrenamiento',\n",
        "    labels=dict(x='Épocas', y='Error')\n",
        ")\n",
        "fig.show()"
      ],
      "metadata": {
        "id": "cHBNrHSMXKhW"
      },
      "execution_count": null,
      "outputs": []
    },
    {
      "cell_type": "code",
      "source": [
        "# Construcción de una rejilla\n",
        "x = np.linspace(-1, 1.5, 201)\n",
        "y = np.linspace(-1, 1.5, 201)\n",
        "xy = np.meshgrid(x, y)\n",
        "zz = np.array(list(zip(*(x.flat for x in xy))))\n",
        "\n",
        "# Predicción en la rejilla de valores\n",
        "surface = model.predict(zz)\n",
        "surface = surface.flatten()"
      ],
      "metadata": {
        "id": "hvSrcyLDaTxc"
      },
      "execution_count": null,
      "outputs": []
    },
    {
      "cell_type": "code",
      "source": [
        "import plotly.graph_objects as go\n",
        "\n",
        "\n",
        "fig = go.Figure(data=[go.Scatter3d(\n",
        "    x=zz[:, 0],\n",
        "    y=zz[:, 1],\n",
        "    z=surface,\n",
        "    mode='markers',\n",
        "    marker=dict(\n",
        "        size=1,\n",
        "        color=surface,\n",
        "        colorscale='Viridis',\n",
        "        opacity=0.8\n",
        "    )\n",
        ")])\n",
        "\n",
        "# Tight layout\n",
        "fig.update_layout(margin=dict(l=0, r=0, b=0, t=0))\n",
        "fig.show()"
      ],
      "metadata": {
        "id": "Z98QLtC8cZH5"
      },
      "execution_count": null,
      "outputs": []
    },
    {
      "cell_type": "markdown",
      "metadata": {
        "id": "0IHtR4uPEaCO"
      },
      "source": [
        "<center>\n",
        "    *********\n",
        "</center>"
      ]
    },
    {
      "cell_type": "markdown",
      "metadata": {
        "id": "7NE4e3KuEVst"
      },
      "source": [
        "## **Sección III – ¡Reto!**"
      ]
    },
    {
      "cell_type": "markdown",
      "metadata": {
        "id": "1Z7JrTygMDSx"
      },
      "source": [
        "### El dataset a utilizar: Fashion MNIST\n",
        "\n",
        "El dataset está compuesto por imágenes de 28x28 pixeles, que contienen un conjunto de prendas en 10 categorías.\n"
      ]
    },
    {
      "cell_type": "markdown",
      "metadata": {
        "id": "p65n1ePSMYm8"
      },
      "source": [
        "Los datos de Fashion MNIST están disponibles directamente en la API de conjuntos de datos de `tf.keras`. Los cargas así:"
      ]
    },
    {
      "cell_type": "code",
      "source": [
        "import tensorflow as tf\n",
        "print(tf.__version__)"
      ],
      "metadata": {
        "id": "L5jdR2KWfWC2"
      },
      "execution_count": null,
      "outputs": []
    },
    {
      "cell_type": "code",
      "metadata": {
        "id": "Wgked3UaMJW4"
      },
      "source": [
        "fashion_mnist = tf.keras.datasets.fashion_mnist"
      ],
      "execution_count": null,
      "outputs": []
    },
    {
      "cell_type": "markdown",
      "metadata": {
        "id": "UsEGBNwrMSac"
      },
      "source": [
        "Llamar a `load_data` en este objeto nos dará dos conjuntos con los valores de entrenamiento y prueba para los gráficos que contienen las prendas y sus etiquetas."
      ]
    },
    {
      "cell_type": "code",
      "metadata": {
        "id": "1XdP6qF1MLR6"
      },
      "source": [
        "(training_images, training_labels), (test_images, test_labels) = fashion_mnist.load_data()"
      ],
      "execution_count": null,
      "outputs": []
    },
    {
      "cell_type": "markdown",
      "metadata": {
        "id": "6c0eSrlvMs6H"
      },
      "source": [
        "¿Cómo se ven estos valores?\n",
        "\n",
        "Imprimamos una imagen de entrenamiento y una etiqueta de entrenamiento para ver."
      ]
    },
    {
      "cell_type": "code",
      "metadata": {
        "id": "3CdTltfNM0qF"
      },
      "source": [
        "import numpy as np\n",
        "import matplotlib.pyplot as plt\n",
        "np.set_printoptions(linewidth=200)\n",
        "\n",
        "\n",
        "# Set index of image to be seen\n",
        "img_index = 5999 # 6000 -1\n",
        "\n",
        "# Plot image\n",
        "plt.imshow(training_images[img_index], cmap='gray')\n",
        "plt.axis(False)\n",
        "\n",
        "print('Label:', training_labels[img_index])\n",
        "print('Matrix:', training_images[img_index])"
      ],
      "execution_count": null,
      "outputs": []
    },
    {
      "cell_type": "markdown",
      "metadata": {
        "id": "IyLnhk1VeNc5"
      },
      "source": [
        "### Preparación de los datos\n",
        "\n",
        "Notarás que todos los valores están entre 0 y 255. Si estamos entrenando una red neuronal, por varias razones es más fácil si transformamos los valores para tratar todos con valores entre 0 y 1. Este proceso se llama **normalización**."
      ]
    },
    {
      "cell_type": "code",
      "metadata": {
        "id": "vWoPQWCGNdnB"
      },
      "source": [
        "training_images  = training_images / 255.0\n",
        "test_images = test_images / 255.0"
      ],
      "execution_count": null,
      "outputs": []
    },
    {
      "cell_type": "code",
      "metadata": {
        "id": "32Dx5PzgJ3gK"
      },
      "source": [
        "import numpy as np\n",
        "import matplotlib.pyplot as plt\n",
        "np.set_printoptions(linewidth=200)\n",
        "\n",
        "\n",
        "# Set index of image to be seen\n",
        "img_index = 3000 # 6000 -1\n",
        "\n",
        "# Plot image\n",
        "plt.imshow(training_images[img_index], cmap='gray')\n",
        "plt.axis(False)\n",
        "\n",
        "print('Label:', training_labels[img_index])\n",
        "print('Matrix:', training_images[img_index])"
      ],
      "execution_count": null,
      "outputs": []
    },
    {
      "cell_type": "code",
      "metadata": {
        "id": "6QLVhw7SOCd8"
      },
      "source": [
        "training_images[0].shape"
      ],
      "execution_count": null,
      "outputs": []
    },
    {
      "cell_type": "markdown",
      "metadata": {
        "id": "bTaT1RjyNjqV"
      },
      "source": [
        "### Creación del modelo\n",
        "\n"
      ]
    },
    {
      "cell_type": "code",
      "metadata": {
        "id": "g-myY9JWNvtY"
      },
      "source": [
        "mlp_model = tf.keras.models.Sequential([\n",
        "    tf.keras.layers.Flatten(),\n",
        "    tf.keras.layers.Dense(256, activation='relu'), # TODO. Dense -> 256, ReLU\n",
        "    tf.keras.layers.Dense(10, activation='softmax') # TODO. Dense -> 10, Softmax\n",
        "])"
      ],
      "execution_count": null,
      "outputs": []
    },
    {
      "cell_type": "markdown",
      "source": [
        "### Entrenamiento del modelo\n",
        "\n",
        "Para entrenar el modelo, simplemente utilizamos el método `.fit()` del modelo."
      ],
      "metadata": {
        "id": "B4DmYPVAUJ2d"
      }
    },
    {
      "cell_type": "code",
      "metadata": {
        "id": "F9LHH0f6N5Hi"
      },
      "source": [
        "mlp_model.compile(\n",
        "    optimizer=tf.optimizers.SGD(),\n",
        "    loss='sparse_categorical_crossentropy',\n",
        "    metrics=['accuracy']\n",
        ")"
      ],
      "execution_count": null,
      "outputs": []
    },
    {
      "cell_type": "code",
      "metadata": {
        "id": "ybq9AzJiN8ZV"
      },
      "source": [
        "history = mlp_model.fit(training_images, training_labels, epochs=3)"
      ],
      "execution_count": null,
      "outputs": []
    },
    {
      "cell_type": "markdown",
      "source": [
        "\n",
        "> **Pregunta clave:** ¿Qué sucede con la historia de entrenamiento?"
      ],
      "metadata": {
        "id": "KMX5Gjzu92e1"
      }
    },
    {
      "cell_type": "code",
      "source": [
        "import plotly.express as px\n",
        "\n",
        "\n",
        "seen = 'accuracy' # or 'loss'\n",
        "\n",
        "hist_values = history.history[seen]\n",
        "eje_x = np.arange(len(hist_values))\n",
        "\n",
        "fig = px.line(\n",
        "    x=eje_x,\n",
        "    y=hist_values,\n",
        "    title='Historia de entrenamiento',\n",
        "    labels=dict(x='Épocas', y=seen.capitalize())\n",
        ")\n",
        "fig.show()"
      ],
      "metadata": {
        "id": "qlQoHT6tge9P"
      },
      "execution_count": null,
      "outputs": []
    },
    {
      "cell_type": "markdown",
      "metadata": {
        "id": "cH9mfZMTN8_H"
      },
      "source": [
        "### Evaluación del modelo"
      ]
    },
    {
      "cell_type": "code",
      "metadata": {
        "id": "rHCV5BrAN-pq"
      },
      "source": [
        "mlp_model.evaluate(test_images, test_labels)"
      ],
      "execution_count": null,
      "outputs": []
    },
    {
      "cell_type": "markdown",
      "metadata": {
        "id": "w-hQX4NNOd_D"
      },
      "source": [
        "### Predicción\n"
      ]
    },
    {
      "cell_type": "code",
      "metadata": {
        "id": "GaDFuXyROfZY"
      },
      "source": [
        "import random\n",
        "\n",
        "test_index = random.randint(0, 10000 - 1)\n",
        "\n",
        "plt.imshow(test_images[test_index], cmap='gray')\n",
        "plt.axis(False)\n",
        "\n",
        "print('Label:', test_labels[test_index])\n",
        "input_image = np.reshape(test_images[test_index], (1, 784))\n",
        "prediction = mlp_model.predict(np.expand_dims(input_image, axis=-1))\n",
        "print('Prediction:', np.argmax(prediction))"
      ],
      "execution_count": null,
      "outputs": []
    },
    {
      "cell_type": "code",
      "metadata": {
        "id": "RHA0nk24QEVz"
      },
      "source": [
        "prediction"
      ],
      "execution_count": null,
      "outputs": []
    },
    {
      "cell_type": "markdown",
      "source": [
        "> **Para resolver la tarea, el reto es:** Mejor accuracy obtenido en la clase.\n",
        "\n",
        "**Puedes explorar:**\n",
        "- El número de capas.\n",
        "- Las épocas de entrenamiento.\n",
        "- Las funciones de activación.\n",
        "- Investigar otras capas."
      ],
      "metadata": {
        "id": "QKp_PZ_NDqbS"
      }
    },
    {
      "cell_type": "markdown",
      "source": [
        "--------\n",
        "\n",
        "> Contenido creado por **Rodolfo Ferro** (2024). <br>\n",
        "> **Contacto:** [@rodo_ferro](https://www.instagram.com/rodo_ferro/)"
      ],
      "metadata": {
        "id": "hSdbQU3e6-Ky"
      }
    }
  ]
}