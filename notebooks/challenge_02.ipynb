{
  "nbformat": 4,
  "nbformat_minor": 0,
  "metadata": {
    "colab": {
      "private_outputs": true,
      "provenance": [],
      "authorship_tag": "ABX9TyNMZ8IrPiX11WTDJgNskv86",
      "include_colab_link": true
    },
    "kernelspec": {
      "name": "python3",
      "display_name": "Python 3"
    },
    "language_info": {
      "name": "python"
    }
  },
  "cells": [
    {
      "cell_type": "markdown",
      "metadata": {
        "id": "view-in-github",
        "colab_type": "text"
      },
      "source": [
        "<a href=\"https://colab.research.google.com/github/RodolfoFerro/curso-ai-basics/blob/main/notebooks/challenge_02.ipynb\" target=\"_parent\"><img src=\"https://colab.research.google.com/assets/colab-badge.svg\" alt=\"Open In Colab\"/></a>"
      ]
    },
    {
      "cell_type": "code",
      "source": [
        "from sklearn.datasets import load_iris\n",
        "import numpy as np"
      ],
      "metadata": {
        "id": "Y3PyGzYG63sp"
      },
      "execution_count": null,
      "outputs": []
    },
    {
      "cell_type": "code",
      "source": [
        "iris = load_iris()"
      ],
      "metadata": {
        "id": "AVJ54gt5k0vH"
      },
      "execution_count": null,
      "outputs": []
    },
    {
      "cell_type": "code",
      "source": [
        "iris"
      ],
      "metadata": {
        "id": "manc9Eq5k68D"
      },
      "execution_count": null,
      "outputs": []
    },
    {
      "cell_type": "code",
      "source": [
        "features = iris['data'] # Features/características que vamos a usar para predecir\n",
        "target = iris['target'] # Target/clase que vamos a predecir"
      ],
      "metadata": {
        "id": "Hkz2xiFhk7e8"
      },
      "execution_count": null,
      "outputs": []
    },
    {
      "cell_type": "markdown",
      "source": [
        "### Separar datos en entrenamiento y pruebas"
      ],
      "metadata": {
        "id": "LsfTrwmImBY5"
      }
    },
    {
      "cell_type": "code",
      "source": [
        "from sklearn.model_selection import train_test_split\n",
        "\n",
        "X_train, X_test, y_train, y_test = train_test_split(features, target, train_size=0.9)"
      ],
      "metadata": {
        "id": "AiMl__vGlZ3L"
      },
      "execution_count": null,
      "outputs": []
    },
    {
      "cell_type": "code",
      "source": [
        "X_train[0], y_train[0], iris['target_names'][y_train[0]]"
      ],
      "metadata": {
        "id": "3z9G5ieCmVgw"
      },
      "execution_count": null,
      "outputs": []
    },
    {
      "cell_type": "markdown",
      "source": [
        "### Entrenar modelo"
      ],
      "metadata": {
        "id": "hPSTrl6Amwhd"
      }
    },
    {
      "cell_type": "code",
      "source": [
        "from sklearn.naive_bayes import GaussianNB\n",
        "\n",
        "model = GaussianNB()\n",
        "model.fit(X_train, y_train)"
      ],
      "metadata": {
        "id": "Nf8SSG9RmXEa"
      },
      "execution_count": null,
      "outputs": []
    },
    {
      "cell_type": "code",
      "source": [
        "model.predict([[5.2, 2.7, 3.9, 1.4]])"
      ],
      "metadata": {
        "id": "275iSdbMnEGv"
      },
      "execution_count": null,
      "outputs": []
    },
    {
      "cell_type": "markdown",
      "source": [
        "### Evaluar modelo"
      ],
      "metadata": {
        "id": "QcYP93ZinaBY"
      }
    },
    {
      "cell_type": "code",
      "source": [
        "from re import X\n",
        "from sklearn.metrics import accuracy_score\n",
        "\n",
        "\n",
        "y_original = y_test\n",
        "y_prediccion = model.predict(X_test)\n",
        "\n",
        "accuracy_score(y_original, y_prediccion)"
      ],
      "metadata": {
        "id": "ql8S2pAunIvi"
      },
      "execution_count": null,
      "outputs": []
    },
    {
      "cell_type": "markdown",
      "source": [
        "### Empaquetado del modelo"
      ],
      "metadata": {
        "id": "Qg7hC6kLpRQk"
      }
    },
    {
      "cell_type": "code",
      "source": [
        "from joblib import dump\n",
        "\n",
        "dump(model, 'modelo_iris.joblib')"
      ],
      "metadata": {
        "id": "Dq6_vx7cnwxq"
      },
      "execution_count": null,
      "outputs": []
    },
    {
      "cell_type": "code",
      "source": [
        "!pip freeze"
      ],
      "metadata": {
        "id": "0S0UZ91prtJT"
      },
      "execution_count": null,
      "outputs": []
    },
    {
      "cell_type": "code",
      "source": [],
      "metadata": {
        "id": "HYL3tvSNrwlw"
      },
      "execution_count": null,
      "outputs": []
    }
  ]
}